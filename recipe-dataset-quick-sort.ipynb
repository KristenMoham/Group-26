{
 "cells": [
  {
   "cell_type": "code",
   "execution_count": 1,
   "id": "85ef6bec",
   "metadata": {
    "_cell_guid": "b1076dfc-b9ad-4769-8c92-a6c4dae69d19",
    "_uuid": "8f2839f25d086af736a60e9eeb907d3b93b6e0e5",
    "execution": {
     "iopub.execute_input": "2024-11-27T01:45:28.596092Z",
     "iopub.status.busy": "2024-11-27T01:45:28.595034Z",
     "iopub.status.idle": "2024-11-27T01:45:41.674558Z",
     "shell.execute_reply": "2024-11-27T01:45:41.673407Z"
    },
    "papermill": {
     "duration": 13.086486,
     "end_time": "2024-11-27T01:45:41.677216",
     "exception": false,
     "start_time": "2024-11-27T01:45:28.590730",
     "status": "completed"
    },
    "tags": []
   },
   "outputs": [],
   "source": [
    "# This Python 3 environment comes with many helpful analytics libraries installed\n",
    "# It is defined by the kaggle/python Docker image: https://github.com/kaggle/docker-python\n",
    "# For example, here's several helpful packages to load\n",
    "import kagglehub\n",
    "!pip install -q kaggle\n",
    "import numpy as np # linear algebra\n",
    "import pandas as pd # data processing, CSV file I/O (e.g. pd.read_csv)\n",
    "\n",
    "# Input data files are available in the read-only \"../input/\" directory\n",
    "# For example, running this (by clicking run or pressing Shift+Enter) will list all files under the input directory\n",
    "\n",
    "import os"
   ]
  },
  {
   "cell_type": "code",
   "execution_count": 2,
   "id": "5c3c20bf",
   "metadata": {
    "execution": {
     "iopub.execute_input": "2024-11-27T01:45:41.684055Z",
     "iopub.status.busy": "2024-11-27T01:45:41.682917Z",
     "iopub.status.idle": "2024-11-27T01:45:42.473286Z",
     "shell.execute_reply": "2024-11-27T01:45:42.472141Z"
    },
    "papermill": {
     "duration": 0.79566,
     "end_time": "2024-11-27T01:45:42.475359",
     "exception": false,
     "start_time": "2024-11-27T01:45:41.679699",
     "status": "completed"
    },
    "tags": []
   },
   "outputs": [
    {
     "name": "stdout",
     "output_type": "stream",
     "text": [
      "/kaggle/input/food-com-recipes-and-user-interactions\n"
     ]
    }
   ],
   "source": [
    "food_com_recipes_and_user_interactions_path = kagglehub.dataset_download('shuyangli94/food-com-recipes-and-user-interactions')\n",
    "print(food_com_recipes_and_user_interactions_path)"
   ]
  },
  {
   "cell_type": "code",
   "execution_count": 3,
   "id": "791d3f2a",
   "metadata": {
    "execution": {
     "iopub.execute_input": "2024-11-27T01:45:42.481310Z",
     "iopub.status.busy": "2024-11-27T01:45:42.480941Z",
     "iopub.status.idle": "2024-11-27T01:45:50.182843Z",
     "shell.execute_reply": "2024-11-27T01:45:50.181855Z"
    },
    "papermill": {
     "duration": 7.707678,
     "end_time": "2024-11-27T01:45:50.185266",
     "exception": false,
     "start_time": "2024-11-27T01:45:42.477588",
     "status": "completed"
    },
    "tags": []
   },
   "outputs": [],
   "source": [
    "file_path = '/kaggle/input/food-com-recipes-and-user-interactions/RAW_recipes.csv'\n",
    "df = pd.read_csv(file_path)"
   ]
  },
  {
   "cell_type": "code",
   "execution_count": 4,
   "id": "acd2f2b0",
   "metadata": {
    "execution": {
     "iopub.execute_input": "2024-11-27T01:45:50.191163Z",
     "iopub.status.busy": "2024-11-27T01:45:50.190517Z",
     "iopub.status.idle": "2024-11-27T01:45:50.492947Z",
     "shell.execute_reply": "2024-11-27T01:45:50.491949Z"
    },
    "papermill": {
     "duration": 0.307702,
     "end_time": "2024-11-27T01:45:50.495178",
     "exception": false,
     "start_time": "2024-11-27T01:45:50.187476",
     "status": "completed"
    },
    "tags": []
   },
   "outputs": [],
   "source": [
    "mainIngredient = df[['name','ingredients','n_ingredients','n_steps','minutes']]\n",
    "mIng = mainIngredient.values.tolist()"
   ]
  },
  {
   "cell_type": "code",
   "execution_count": 5,
   "id": "f176f594",
   "metadata": {
    "execution": {
     "iopub.execute_input": "2024-11-27T01:45:50.500606Z",
     "iopub.status.busy": "2024-11-27T01:45:50.500287Z",
     "iopub.status.idle": "2024-11-27T01:45:50.504630Z",
     "shell.execute_reply": "2024-11-27T01:45:50.503653Z"
    },
    "papermill": {
     "duration": 0.009214,
     "end_time": "2024-11-27T01:45:50.506588",
     "exception": false,
     "start_time": "2024-11-27T01:45:50.497374",
     "status": "completed"
    },
    "tags": []
   },
   "outputs": [],
   "source": [
    "#Quick Sort"
   ]
  }
 ],
 "metadata": {
  "kaggle": {
   "accelerator": "none",
   "dataSources": [
    {
     "datasetId": 311962,
     "sourceId": 783630,
     "sourceType": "datasetVersion"
    }
   ],
   "dockerImageVersionId": 30786,
   "isGpuEnabled": false,
   "isInternetEnabled": true,
   "language": "python",
   "sourceType": "notebook"
  },
  "kernelspec": {
   "display_name": "Python 3",
   "language": "python",
   "name": "python3"
  },
  "language_info": {
   "codemirror_mode": {
    "name": "ipython",
    "version": 3
   },
   "file_extension": ".py",
   "mimetype": "text/x-python",
   "name": "python",
   "nbconvert_exporter": "python",
   "pygments_lexer": "ipython3",
   "version": "3.10.14"
  },
  "papermill": {
   "default_parameters": {},
   "duration": 25.340064,
   "end_time": "2024-11-27T01:45:51.128508",
   "environment_variables": {},
   "exception": null,
   "input_path": "__notebook__.ipynb",
   "output_path": "__notebook__.ipynb",
   "parameters": {},
   "start_time": "2024-11-27T01:45:25.788444",
   "version": "2.6.0"
  }
 },
 "nbformat": 4,
 "nbformat_minor": 5
}
